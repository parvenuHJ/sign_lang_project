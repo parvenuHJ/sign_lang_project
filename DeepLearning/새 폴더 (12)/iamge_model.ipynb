{
 "cells": [
  {
   "cell_type": "code",
   "execution_count": 1,
   "id": "89818b8a",
   "metadata": {},
   "outputs": [
    {
     "name": "stdout",
     "output_type": "stream",
     "text": [
      "WARNING:tensorflow:From C:\\Users\\SMHRD\\anaconda3\\Lib\\site-packages\\keras\\src\\losses.py:2976: The name tf.losses.sparse_softmax_cross_entropy is deprecated. Please use tf.compat.v1.losses.sparse_softmax_cross_entropy instead.\n",
      "\n"
     ]
    }
   ],
   "source": [
    "from tensorflow.keras.preprocessing import image\n",
    "from tensorflow.keras.applications.efficientnet import preprocess_input, EfficientNetB7\n",
    "from tensorflow.keras import Input, Model\n",
    "from tensorflow.keras.layers import Dense\n",
    "from PIL import Image\n",
    "import matplotlib.pyplot as plt\n",
    "import numpy as np\n",
    "import os\n",
    "import pandas as pd\n",
    "from tensorflow import keras\n",
    "from sklearn.model_selection import train_test_split\n",
    "from tensorflow.keras.preprocessing.image import ImageDataGenerator\n",
    "from tensorflow.keras.callbacks import ModelCheckpoint, EarlyStopping\n",
    "from tensorflow.keras.utils import to_categorical\n",
    "from sklearn.preprocessing import LabelEncoder\n",
    "import cv2\n",
    "from tensorflow.keras.preprocessing.image import load_img, img_to_array\n",
    "import numpy as np\n",
    "import time"
   ]
  },
  {
   "cell_type": "code",
   "execution_count": 2,
   "id": "8b54b6a7",
   "metadata": {},
   "outputs": [],
   "source": [
    "def crop_center_square(img):\n",
    "    # 이미지의 크기를 가져옵니다.\n",
    "    min_dim = min(img.size)\n",
    "    # 중앙에서 정사각형으로 자르기 위한 시작점을 계산합니다.\n",
    "    start_x = (img.size[0] - min_dim) // 2\n",
    "    start_y = (img.size[1] - min_dim) // 2\n",
    "    # 이미지를 자릅니다.\n",
    "    return img.crop((start_x, start_y, start_x + min_dim, start_y + min_dim))"
   ]
  },
  {
   "cell_type": "code",
   "execution_count": 3,
   "id": "549ea35d",
   "metadata": {},
   "outputs": [],
   "source": [
    "def build_feature_extractor():\n",
    "    model = EfficientNetB7(\n",
    "        weights=\"imagenet\",\n",
    "        include_top=False,\n",
    "        pooling=\"avg\",\n",
    "        input_shape=(600, 600, 3),\n",
    "    )\n",
    "    model.trainable = False\n",
    "    \n",
    "    image_input = keras.Input((600, 600, 3))\n",
    "    image_features = model(image_input)\n",
    "    output = Dense(10, activation=\"softmax\")(image_features)\n",
    "\n",
    "    return Model(inputs=image_input, outputs=output, name=\"feature_extractor_efficientnet\")"
   ]
  },
  {
   "cell_type": "code",
   "execution_count": 4,
   "id": "2686feb2",
   "metadata": {},
   "outputs": [
    {
     "data": {
      "text/html": [
       "<div>\n",
       "<style scoped>\n",
       "    .dataframe tbody tr th:only-of-type {\n",
       "        vertical-align: middle;\n",
       "    }\n",
       "\n",
       "    .dataframe tbody tr th {\n",
       "        vertical-align: top;\n",
       "    }\n",
       "\n",
       "    .dataframe thead th {\n",
       "        text-align: right;\n",
       "    }\n",
       "</style>\n",
       "<table border=\"1\" class=\"dataframe\">\n",
       "  <thead>\n",
       "    <tr style=\"text-align: right;\">\n",
       "      <th></th>\n",
       "      <th>tag</th>\n",
       "      <th>image_name</th>\n",
       "    </tr>\n",
       "  </thead>\n",
       "  <tbody>\n",
       "    <tr>\n",
       "      <th>0</th>\n",
       "      <td>belly</td>\n",
       "      <td>data/train/belly/20231206_121209_001.jpg</td>\n",
       "    </tr>\n",
       "    <tr>\n",
       "      <th>1</th>\n",
       "      <td>belly</td>\n",
       "      <td>data/train/belly/20231206_121209_002.jpg</td>\n",
       "    </tr>\n",
       "    <tr>\n",
       "      <th>2</th>\n",
       "      <td>belly</td>\n",
       "      <td>data/train/belly/20231206_121209_003.jpg</td>\n",
       "    </tr>\n",
       "    <tr>\n",
       "      <th>3</th>\n",
       "      <td>belly</td>\n",
       "      <td>data/train/belly/20231206_121209_004.jpg</td>\n",
       "    </tr>\n",
       "    <tr>\n",
       "      <th>4</th>\n",
       "      <td>belly</td>\n",
       "      <td>data/train/belly/20231206_121209_005.jpg</td>\n",
       "    </tr>\n",
       "    <tr>\n",
       "      <th>...</th>\n",
       "      <td>...</td>\n",
       "      <td>...</td>\n",
       "    </tr>\n",
       "    <tr>\n",
       "      <th>1662</th>\n",
       "      <td>where</td>\n",
       "      <td>data/train/where/20231206_115431_012.jpg</td>\n",
       "    </tr>\n",
       "    <tr>\n",
       "      <th>1663</th>\n",
       "      <td>where</td>\n",
       "      <td>data/train/where/20231206_115431_013.jpg</td>\n",
       "    </tr>\n",
       "    <tr>\n",
       "      <th>1664</th>\n",
       "      <td>where</td>\n",
       "      <td>data/train/where/20231206_115431_014.jpg</td>\n",
       "    </tr>\n",
       "    <tr>\n",
       "      <th>1665</th>\n",
       "      <td>where</td>\n",
       "      <td>data/train/where/20231206_115431_015.jpg</td>\n",
       "    </tr>\n",
       "    <tr>\n",
       "      <th>1666</th>\n",
       "      <td>where</td>\n",
       "      <td>data/train/where/20231206_115431_016.jpg</td>\n",
       "    </tr>\n",
       "  </tbody>\n",
       "</table>\n",
       "<p>1667 rows × 2 columns</p>\n",
       "</div>"
      ],
      "text/plain": [
       "        tag                                image_name\n",
       "0     belly  data/train/belly/20231206_121209_001.jpg\n",
       "1     belly  data/train/belly/20231206_121209_002.jpg\n",
       "2     belly  data/train/belly/20231206_121209_003.jpg\n",
       "3     belly  data/train/belly/20231206_121209_004.jpg\n",
       "4     belly  data/train/belly/20231206_121209_005.jpg\n",
       "...     ...                                       ...\n",
       "1662  where  data/train/where/20231206_115431_012.jpg\n",
       "1663  where  data/train/where/20231206_115431_013.jpg\n",
       "1664  where  data/train/where/20231206_115431_014.jpg\n",
       "1665  where  data/train/where/20231206_115431_015.jpg\n",
       "1666  where  data/train/where/20231206_115431_016.jpg\n",
       "\n",
       "[1667 rows x 2 columns]"
      ]
     },
     "execution_count": 4,
     "metadata": {},
     "output_type": "execute_result"
    }
   ],
   "source": [
    "train_dir = 'data/train'\n",
    "# 비디오 파일 목록과 태그를 포함하는 리스트를 만드는 함수\n",
    "def create_data_list(data_dir):\n",
    "    data_list = []\n",
    "    for item in os.listdir(data_dir):\n",
    "        item_path = os.path.join(data_dir, item)\n",
    "        if os.path.isdir(item_path):\n",
    "            for file_name in os.listdir(item_path):\n",
    "                if file_name.endswith('.jpg'):\n",
    "                    data_list.append((item, str(data_dir+'/'+item)+'/'+file_name))\n",
    "    return data_list\n",
    "\n",
    "train_list = create_data_list(train_dir)\n",
    "train_df = pd.DataFrame(data=train_list, columns=['tag', 'image_name'])\n",
    "train_df"
   ]
  },
  {
   "cell_type": "code",
   "execution_count": 5,
   "id": "10f63bb9",
   "metadata": {},
   "outputs": [],
   "source": [
    "# CSV 파일로 저장\n",
    "csv_filename = 'image_data.csv'\n",
    "train_df.to_csv(csv_filename, index=False)\n",
    "\n",
    "# CSV 파일 불러오기\n",
    "df = pd.read_csv('image_data.csv')\n",
    "\n",
    "# 이미지 데이터와 레이블을 저장할 리스트\n",
    "image_data = []\n",
    "labels = []"
   ]
  },
  {
   "cell_type": "code",
   "execution_count": 6,
   "id": "10984f14",
   "metadata": {},
   "outputs": [
    {
     "ename": "KeyboardInterrupt",
     "evalue": "",
     "output_type": "error",
     "traceback": [
      "\u001b[1;31m---------------------------------------------------------------------------\u001b[0m",
      "\u001b[1;31mKeyboardInterrupt\u001b[0m                         Traceback (most recent call last)",
      "Cell \u001b[1;32mIn[6], line 4\u001b[0m\n\u001b[0;32m      2\u001b[0m img \u001b[38;5;241m=\u001b[39m Image\u001b[38;5;241m.\u001b[39mopen(row[\u001b[38;5;124m'\u001b[39m\u001b[38;5;124mimage_name\u001b[39m\u001b[38;5;124m'\u001b[39m])\n\u001b[0;32m      3\u001b[0m img \u001b[38;5;241m=\u001b[39m crop_center_square(img)\n\u001b[1;32m----> 4\u001b[0m img \u001b[38;5;241m=\u001b[39m img\u001b[38;5;241m.\u001b[39mresize((\u001b[38;5;241m600\u001b[39m, \u001b[38;5;241m600\u001b[39m))   \u001b[38;5;66;03m# EfficientNetB7에 적합한 크기로 조정\u001b[39;00m\n\u001b[0;32m      5\u001b[0m img_array \u001b[38;5;241m=\u001b[39m image\u001b[38;5;241m.\u001b[39mimg_to_array(img)\n\u001b[0;32m      6\u001b[0m img_array \u001b[38;5;241m=\u001b[39m preprocess_input(img_array)  \u001b[38;5;66;03m# 이미지 전처리\u001b[39;00m\n",
      "File \u001b[1;32m~\\anaconda3\\Lib\\site-packages\\PIL\\Image.py:2192\u001b[0m, in \u001b[0;36mImage.resize\u001b[1;34m(self, size, resample, box, reducing_gap)\u001b[0m\n\u001b[0;32m   2184\u001b[0m             \u001b[38;5;28mself\u001b[39m \u001b[38;5;241m=\u001b[39m Image\u001b[38;5;241m.\u001b[39mreduce(\u001b[38;5;28mself\u001b[39m, factor, box\u001b[38;5;241m=\u001b[39mreduce_box)\n\u001b[0;32m   2185\u001b[0m         box \u001b[38;5;241m=\u001b[39m (\n\u001b[0;32m   2186\u001b[0m             (box[\u001b[38;5;241m0\u001b[39m] \u001b[38;5;241m-\u001b[39m reduce_box[\u001b[38;5;241m0\u001b[39m]) \u001b[38;5;241m/\u001b[39m factor_x,\n\u001b[0;32m   2187\u001b[0m             (box[\u001b[38;5;241m1\u001b[39m] \u001b[38;5;241m-\u001b[39m reduce_box[\u001b[38;5;241m1\u001b[39m]) \u001b[38;5;241m/\u001b[39m factor_y,\n\u001b[0;32m   2188\u001b[0m             (box[\u001b[38;5;241m2\u001b[39m] \u001b[38;5;241m-\u001b[39m reduce_box[\u001b[38;5;241m0\u001b[39m]) \u001b[38;5;241m/\u001b[39m factor_x,\n\u001b[0;32m   2189\u001b[0m             (box[\u001b[38;5;241m3\u001b[39m] \u001b[38;5;241m-\u001b[39m reduce_box[\u001b[38;5;241m1\u001b[39m]) \u001b[38;5;241m/\u001b[39m factor_y,\n\u001b[0;32m   2190\u001b[0m         )\n\u001b[1;32m-> 2192\u001b[0m \u001b[38;5;28;01mreturn\u001b[39;00m \u001b[38;5;28mself\u001b[39m\u001b[38;5;241m.\u001b[39m_new(\u001b[38;5;28mself\u001b[39m\u001b[38;5;241m.\u001b[39mim\u001b[38;5;241m.\u001b[39mresize(size, resample, box))\n",
      "\u001b[1;31mKeyboardInterrupt\u001b[0m: "
     ]
    }
   ],
   "source": [
    "for index, row in df.iterrows():\n",
    "    img = Image.open(row['image_name'])\n",
    "    img = crop_center_square(img)\n",
    "    img = img.resize((600, 600))   # EfficientNetB7에 적합한 크기로 조정\n",
    "    img_array = image.img_to_array(img)\n",
    "    img_array = preprocess_input(img_array)  # 이미지 전처리\n",
    "    image_data.append(img_array)\n",
    "    labels.append(row['tag'])\n",
    "\n",
    "# 넘파이 배열로 변환\n",
    "image_data = np.array(image_data)\n",
    "labels = np.array(labels)"
   ]
  },
  {
   "cell_type": "code",
   "execution_count": 6,
   "id": "6975bed3",
   "metadata": {},
   "outputs": [],
   "source": [
    "# 이미지 데이터와 레이블을 압축된 npz 파일로 저장\n",
    "np.savez_compressed('image_data.npz', image_data=image_data, labels=labels)"
   ]
  },
  {
   "cell_type": "code",
   "execution_count": 6,
   "id": "15e3e6f0",
   "metadata": {},
   "outputs": [],
   "source": [
    "# 저장된 npz 파일 로드\n",
    "data = np.load('image_data.npz')\n",
    "\n",
    "# 데이터를 다시 넘파이 배열로 추출\n",
    "image_data = data['image_data']\n",
    "labels = data['labels']"
   ]
  },
  {
   "cell_type": "code",
   "execution_count": 7,
   "id": "9af61ae3",
   "metadata": {},
   "outputs": [
    {
     "name": "stdout",
     "output_type": "stream",
     "text": [
      "WARNING:tensorflow:From C:\\Users\\SMHRD\\anaconda3\\Lib\\site-packages\\keras\\src\\backend.py:1398: The name tf.executing_eagerly_outside_functions is deprecated. Please use tf.compat.v1.executing_eagerly_outside_functions instead.\n",
      "\n",
      "WARNING:tensorflow:From C:\\Users\\SMHRD\\anaconda3\\Lib\\site-packages\\keras\\src\\layers\\normalization\\batch_normalization.py:979: The name tf.nn.fused_batch_norm is deprecated. Please use tf.compat.v1.nn.fused_batch_norm instead.\n",
      "\n",
      "WARNING:tensorflow:From C:\\Users\\SMHRD\\anaconda3\\Lib\\site-packages\\keras\\src\\optimizers\\__init__.py:309: The name tf.train.Optimizer is deprecated. Please use tf.compat.v1.train.Optimizer instead.\n",
      "\n"
     ]
    }
   ],
   "source": [
    "model = build_feature_extractor()\n",
    "\n",
    "# 모델 컴파일\n",
    "model.compile(optimizer='adam',\n",
    "              loss='categorical_crossentropy',\n",
    "              metrics=['accuracy'])"
   ]
  },
  {
   "cell_type": "code",
   "execution_count": 8,
   "id": "e2466eca",
   "metadata": {},
   "outputs": [],
   "source": [
    "# 먼저 데이터를 셔플링\n",
    "indices = np.arange(len(image_data))\n",
    "np.random.shuffle(indices)\n",
    "image_data = image_data[indices]\n",
    "labels = labels[indices]"
   ]
  },
  {
   "cell_type": "code",
   "execution_count": 9,
   "id": "15dc0acb",
   "metadata": {},
   "outputs": [],
   "source": [
    "# 레이블 인코더 생성\n",
    "label_encoder = LabelEncoder()\n",
    "integer_encoded_labels = label_encoder.fit_transform(labels)"
   ]
  },
  {
   "cell_type": "code",
   "execution_count": 10,
   "id": "b37bfb99",
   "metadata": {},
   "outputs": [],
   "source": [
    "# 정수 라벨을 원-핫 인코딩으로 변환\n",
    "labels_one_hot = to_categorical(integer_encoded_labels, num_classes=10)"
   ]
  },
  {
   "cell_type": "code",
   "execution_count": 11,
   "id": "f378e0d3",
   "metadata": {},
   "outputs": [],
   "source": [
    "# stratify를 사용하여 데이터를 분할\n",
    "image_data_train, image_data_val, labels_train, labels_val = train_test_split(\n",
    "    image_data, labels_one_hot, test_size=0.2, stratify=labels)"
   ]
  },
  {
   "cell_type": "code",
   "execution_count": 12,
   "id": "f4a464e3",
   "metadata": {},
   "outputs": [],
   "source": [
    "datagen = ImageDataGenerator()"
   ]
  },
  {
   "cell_type": "code",
   "execution_count": 14,
   "id": "4bc2fced",
   "metadata": {},
   "outputs": [
    {
     "name": "stdout",
     "output_type": "stream",
     "text": [
      "Epoch 1/10\n",
      "84/84 [==============================] - ETA: 0s - loss: 0.5206 - accuracy: 0.9602 "
     ]
    },
    {
     "name": "stderr",
     "output_type": "stream",
     "text": [
      "C:\\Users\\SMHRD\\anaconda3\\Lib\\site-packages\\keras\\src\\engine\\training.py:3103: UserWarning: You are saving your model as an HDF5 file via `model.save()`. This file format is considered legacy. We recommend using instead the native Keras format, e.g. `model.save('my_model.keras')`.\n",
      "  saving_api.save_model(\n"
     ]
    },
    {
     "name": "stdout",
     "output_type": "stream",
     "text": [
      "84/84 [==============================] - 1076s 13s/step - loss: 0.5206 - accuracy: 0.9602 - val_loss: 0.2346 - val_accuracy: 0.9940\n",
      "Epoch 2/10\n",
      "84/84 [==============================] - 1063s 13s/step - loss: 0.2117 - accuracy: 0.9932 - val_loss: 0.1152 - val_accuracy: 1.0000\n",
      "Epoch 3/10\n",
      "84/84 [==============================] - 1060s 13s/step - loss: 0.1184 - accuracy: 0.9992 - val_loss: 0.0721 - val_accuracy: 1.0000\n",
      "Epoch 4/10\n",
      "84/84 [==============================] - 1059s 13s/step - loss: 0.0853 - accuracy: 0.9992 - val_loss: 0.0478 - val_accuracy: 1.0000\n",
      "Epoch 5/10\n",
      "84/84 [==============================] - 1059s 13s/step - loss: 0.0570 - accuracy: 1.0000 - val_loss: 0.0346 - val_accuracy: 1.0000\n",
      "Epoch 6/10\n",
      "84/84 [==============================] - 1059s 13s/step - loss: 0.0466 - accuracy: 1.0000 - val_loss: 0.0273 - val_accuracy: 1.0000\n",
      "Epoch 7/10\n",
      "84/84 [==============================] - 1059s 13s/step - loss: 0.0376 - accuracy: 1.0000 - val_loss: 0.0214 - val_accuracy: 1.0000\n",
      "Epoch 8/10\n",
      "84/84 [==============================] - 1059s 13s/step - loss: 0.0312 - accuracy: 1.0000 - val_loss: 0.0172 - val_accuracy: 1.0000\n",
      "Epoch 9/10\n",
      "84/84 [==============================] - 1059s 13s/step - loss: 0.0269 - accuracy: 1.0000 - val_loss: 0.0149 - val_accuracy: 1.0000\n",
      "Epoch 10/10\n",
      "84/84 [==============================] - 1058s 13s/step - loss: 0.0224 - accuracy: 1.0000 - val_loss: 0.0124 - val_accuracy: 1.0000\n"
     ]
    }
   ],
   "source": [
    "# batch_size = 16  # 예를 들어, 배치 크기를 16으로 줄임\n",
    "# 학습 데이터 생성기\n",
    "train_generator = datagen.flow(x=image_data_train, y=labels_train,batch_size=batch_size)\n",
    "# 검증 데이터 생성기\n",
    "validation_generator = datagen.flow(x=image_data_val, y=labels_val, batch_size=batch_size)\n",
    "\n",
    "# 콜백 정의\n",
    "checkpoint = ModelCheckpoint('best_model.h5', save_best_only=True, monitor='val_loss', mode='min')\n",
    "early_stopping = EarlyStopping(monitor='val_loss', patience=10)\n",
    "\n",
    "# 모델 학습\n",
    "# 모델 학습\n",
    "history = model.fit(\n",
    "    train_generator,\n",
    "    validation_data=validation_generator,\n",
    "    epochs=10,\n",
    "    callbacks=[checkpoint, early_stopping]\n",
    ")"
   ]
  },
  {
   "cell_type": "code",
   "execution_count": 17,
   "id": "7a399983",
   "metadata": {
    "scrolled": false
   },
   "outputs": [
    {
     "data": {
      "image/png": "[encoded data removed]",
      "text/plain": [
       "<Figure size 1200x400 with 2 Axes>"
      ]
     },
     "metadata": {},
     "output_type": "display_data"
    }
   ],
   "source": [
    "# 손실 그래프\n",
    "plt.figure(figsize=(12, 4))\n",
    "\n",
    "plt.subplot(1, 2, 1)\n",
    "plt.plot(history.history['loss'], label='Training Loss')\n",
    "plt.plot(history.history['val_loss'], label='Validation Loss')\n",
    "plt.title('Training and Validation Loss')\n",
    "plt.xlabel('Epochs')\n",
    "plt.ylabel('Loss')\n",
    "plt.legend()\n",
    "\n",
    "# 정확도 그래프\n",
    "plt.subplot(1, 2, 2)\n",
    "plt.plot(history.history['accuracy'], label='Training Accuracy')\n",
    "plt.plot(history.history['val_accuracy'], label='Validation Accuracy')\n",
    "plt.title('Training and Validation Accuracy')\n",
    "plt.xlabel('Epochs')\n",
    "plt.ylabel('Accuracy')\n",
    "plt.legend()\n",
    "\n",
    "plt.tight_layout()\n",
    "plt.show()"
   ]
  },
  {
   "cell_type": "code",
   "execution_count": 19,
   "id": "aded91ec",
   "metadata": {},
   "outputs": [
    {
     "name": "stderr",
     "output_type": "stream",
     "text": [
      "C:\\Users\\SMHRD\\anaconda3\\Lib\\site-packages\\keras\\src\\engine\\training.py:3103: UserWarning: You are saving your model as an HDF5 file via `model.save()`. This file format is considered legacy. We recommend using instead the native Keras format, e.g. `model.save('my_model.keras')`.\n",
      "  saving_api.save_model(\n"
     ]
    }
   ],
   "source": [
    "model.save('efficientnet_model.h5')"
   ]
  },
  {
   "cell_type": "code",
   "execution_count": 4,
   "id": "6796aca7",
   "metadata": {},
   "outputs": [
    {
     "ename": "UnicodeDecodeError",
     "evalue": "'utf-8' codec can't decode byte 0xe4 in position 21: invalid continuation byte",
     "output_type": "error",
     "traceback": [
      "\u001b[1;31m---------------------------------------------------------------------------\u001b[0m",
      "\u001b[1;31mUnicodeDecodeError\u001b[0m                        Traceback (most recent call last)",
      "Cell \u001b[1;32mIn[4], line 3\u001b[0m\n\u001b[0;32m      1\u001b[0m \u001b[38;5;66;03m# 모델불러오기\u001b[39;00m\n\u001b[0;32m      2\u001b[0m \u001b[38;5;28;01mfrom\u001b[39;00m \u001b[38;5;21;01mtensorflow\u001b[39;00m\u001b[38;5;21;01m.\u001b[39;00m\u001b[38;5;21;01mkeras\u001b[39;00m\u001b[38;5;21;01m.\u001b[39;00m\u001b[38;5;21;01mmodels\u001b[39;00m \u001b[38;5;28;01mimport\u001b[39;00m load_model\n\u001b[1;32m----> 3\u001b[0m restored_model \u001b[38;5;241m=\u001b[39m load_model(\u001b[38;5;124m'\u001b[39m\u001b[38;5;124mefficientnet_model.h5\u001b[39m\u001b[38;5;124m'\u001b[39m)\n",
      "File \u001b[1;32m~\\anaconda3\\Lib\\site-packages\\keras\\src\\saving\\saving_api.py:262\u001b[0m, in \u001b[0;36mload_model\u001b[1;34m(filepath, custom_objects, compile, safe_mode, **kwargs)\u001b[0m\n\u001b[0;32m    254\u001b[0m     \u001b[38;5;28;01mreturn\u001b[39;00m saving_lib\u001b[38;5;241m.\u001b[39mload_model(\n\u001b[0;32m    255\u001b[0m         filepath,\n\u001b[0;32m    256\u001b[0m         custom_objects\u001b[38;5;241m=\u001b[39mcustom_objects,\n\u001b[0;32m    257\u001b[0m         \u001b[38;5;28mcompile\u001b[39m\u001b[38;5;241m=\u001b[39m\u001b[38;5;28mcompile\u001b[39m,\n\u001b[0;32m    258\u001b[0m         safe_mode\u001b[38;5;241m=\u001b[39msafe_mode,\n\u001b[0;32m    259\u001b[0m     )\n\u001b[0;32m    261\u001b[0m \u001b[38;5;66;03m# Legacy case.\u001b[39;00m\n\u001b[1;32m--> 262\u001b[0m \u001b[38;5;28;01mreturn\u001b[39;00m legacy_sm_saving_lib\u001b[38;5;241m.\u001b[39mload_model(\n\u001b[0;32m    263\u001b[0m     filepath, custom_objects\u001b[38;5;241m=\u001b[39mcustom_objects, \u001b[38;5;28mcompile\u001b[39m\u001b[38;5;241m=\u001b[39m\u001b[38;5;28mcompile\u001b[39m, \u001b[38;5;241m*\u001b[39m\u001b[38;5;241m*\u001b[39mkwargs\n\u001b[0;32m    264\u001b[0m )\n",
      "File \u001b[1;32m~\\anaconda3\\Lib\\site-packages\\keras\\src\\utils\\traceback_utils.py:70\u001b[0m, in \u001b[0;36mfilter_traceback.<locals>.error_handler\u001b[1;34m(*args, **kwargs)\u001b[0m\n\u001b[0;32m     67\u001b[0m     filtered_tb \u001b[38;5;241m=\u001b[39m _process_traceback_frames(e\u001b[38;5;241m.\u001b[39m__traceback__)\n\u001b[0;32m     68\u001b[0m     \u001b[38;5;66;03m# To get the full stack trace, call:\u001b[39;00m\n\u001b[0;32m     69\u001b[0m     \u001b[38;5;66;03m# `tf.debugging.disable_traceback_filtering()`\u001b[39;00m\n\u001b[1;32m---> 70\u001b[0m     \u001b[38;5;28;01mraise\u001b[39;00m e\u001b[38;5;241m.\u001b[39mwith_traceback(filtered_tb) \u001b[38;5;28;01mfrom\u001b[39;00m \u001b[38;5;28;01mNone\u001b[39;00m\n\u001b[0;32m     71\u001b[0m \u001b[38;5;28;01mfinally\u001b[39;00m:\n\u001b[0;32m     72\u001b[0m     \u001b[38;5;28;01mdel\u001b[39;00m filtered_tb\n",
      "File \u001b[1;32m~\\anaconda3\\Lib\\site-packages\\tensorflow\\python\\lib\\io\\file_io.py:703\u001b[0m, in \u001b[0;36mis_directory_v2\u001b[1;34m(path)\u001b[0m\n\u001b[0;32m    694\u001b[0m \u001b[38;5;250m\u001b[39m\u001b[38;5;124;03m\"\"\"Returns whether the path is a directory or not.\u001b[39;00m\n\u001b[0;32m    695\u001b[0m \n\u001b[0;32m    696\u001b[0m \u001b[38;5;124;03mArgs:\u001b[39;00m\n\u001b[1;32m   (...)\u001b[0m\n\u001b[0;32m    700\u001b[0m \u001b[38;5;124;03m  True, if the path is a directory; False otherwise\u001b[39;00m\n\u001b[0;32m    701\u001b[0m \u001b[38;5;124;03m\"\"\"\u001b[39;00m\n\u001b[0;32m    702\u001b[0m \u001b[38;5;28;01mtry\u001b[39;00m:\n\u001b[1;32m--> 703\u001b[0m   \u001b[38;5;28;01mreturn\u001b[39;00m _pywrap_file_io\u001b[38;5;241m.\u001b[39mIsDirectory(compat\u001b[38;5;241m.\u001b[39mpath_to_bytes(path))\n\u001b[0;32m    704\u001b[0m \u001b[38;5;28;01mexcept\u001b[39;00m errors\u001b[38;5;241m.\u001b[39mOpError:\n\u001b[0;32m    705\u001b[0m   \u001b[38;5;28;01mreturn\u001b[39;00m \u001b[38;5;28;01mFalse\u001b[39;00m\n",
      "\u001b[1;31mUnicodeDecodeError\u001b[0m: 'utf-8' codec can't decode byte 0xe4 in position 21: invalid continuation byte"
     ]
    }
   ],
   "source": [
    "# 모델불러오기\n",
    "from tensorflow.keras.models import load_model\n",
    "restored_model = load_model('efficientnet_model.h5')"
   ]
  },
  {
   "cell_type": "code",
   "execution_count": 20,
   "id": "39cf5b90",
   "metadata": {},
   "outputs": [
    {
     "name": "stdout",
     "output_type": "stream",
     "text": [
      "11/11 [==============================] - 214s 19s/step\n"
     ]
    }
   ],
   "source": [
    "# 예측 수행\n",
    "predictions = model.predict(image_data_val)\n",
    "predicted_classes = np.argmax(predictions, axis=1)\n",
    "\n",
    "# 예측된 정수 라벨을 문자열 라벨로 변환\n",
    "predicted_labels = label_encoder.inverse_transform(predicted_classes)"
   ]
  },
  {
   "cell_type": "code",
   "execution_count": 44,
   "id": "23c11e50",
   "metadata": {},
   "outputs": [
    {
     "name": "stdout",
     "output_type": "stream",
     "text": [
      "1/1 [==============================] - 1s 505ms/step\n"
     ]
    }
   ],
   "source": [
    "# 이미지를 불러오고 크기 조정\n",
    "image = Image.open('data/train/lost/20231206_115104_041.jpg')\n",
    "image = crop_center_square(image)\n",
    "image = image.resize((600,600))\n",
    "image = img_to_array(image)\n",
    "image = preprocess_input(image)\n",
    "\n",
    "# 배치 차원 추가\n",
    "image = np.expand_dims(image, axis=0)\n",
    "\n",
    "# 예측 수행\n",
    "predictions = model.predict(image)\n",
    "predicted_class = np.argmax(predictions, axis=1)\n",
    "\n",
    "# 예측된 정수 라벨을 문자열 라벨로 변환\n",
    "predicted_label = label_encoder.inverse_transform(predicted_class)"
   ]
  },
  {
   "cell_type": "code",
   "execution_count": 45,
   "id": "0104120c",
   "metadata": {},
   "outputs": [
    {
     "data": {
      "text/plain": [
       "array(['lost'], dtype='<U6')"
      ]
     },
     "execution_count": 45,
     "metadata": {},
     "output_type": "execute_result"
    }
   ],
   "source": [
    "predicted_label"
   ]
  },
  {
   "cell_type": "code",
   "execution_count": 49,
   "id": "87bb82e6",
   "metadata": {},
   "outputs": [],
   "source": [
    "def crop_center_square_frame(frame):\n",
    "    h, w = frame.shape[:2]\n",
    "    min_dim = min(h, w)\n",
    "    start_x = (w - min_dim) // 2\n",
    "    start_y = (h - min_dim) // 2\n",
    "    return frame[start_y:start_y+min_dim, start_x:start_x+min_dim]"
   ]
  },
  {
   "cell_type": "code",
   "execution_count": 59,
   "id": "eeebc275",
   "metadata": {},
   "outputs": [
    {
     "name": "stdout",
     "output_type": "stream",
     "text": [
      "1/1 [==============================] - 0s 500ms/step\n",
      "1/1 [==============================] - 1s 501ms/step\n",
      "1/1 [==============================] - 0s 496ms/step\n",
      "1/1 [==============================] - 1s 501ms/step\n",
      "1/1 [==============================] - 1s 536ms/step\n",
      "1/1 [==============================] - 1s 552ms/step\n",
      "1/1 [==============================] - 1s 513ms/step\n",
      "1/1 [==============================] - 1s 518ms/step\n",
      "1/1 [==============================] - 1s 524ms/step\n",
      "1/1 [==============================] - 1s 515ms/step\n",
      "1/1 [==============================] - 1s 550ms/step\n",
      "1/1 [==============================] - 1s 543ms/step\n",
      "1/1 [==============================] - 1s 552ms/step\n",
      "1/1 [==============================] - 1s 505ms/step\n",
      "1/1 [==============================] - 1s 517ms/step\n",
      "1/1 [==============================] - 1s 536ms/step\n"
     ]
    },
    {
     "ename": "KeyboardInterrupt",
     "evalue": "",
     "output_type": "error",
     "traceback": [
      "\u001b[1;31m---------------------------------------------------------------------------\u001b[0m",
      "\u001b[1;31mKeyboardInterrupt\u001b[0m                         Traceback (most recent call last)",
      "Cell \u001b[1;32mIn[59], line 6\u001b[0m\n\u001b[0;32m      4\u001b[0m cap \u001b[38;5;241m=\u001b[39m cv2\u001b[38;5;241m.\u001b[39mVideoCapture(\u001b[38;5;241m0\u001b[39m)\n\u001b[0;32m      5\u001b[0m \u001b[38;5;28;01mwhile\u001b[39;00m cap\u001b[38;5;241m.\u001b[39misOpened():\n\u001b[1;32m----> 6\u001b[0m     ret, img \u001b[38;5;241m=\u001b[39m cap\u001b[38;5;241m.\u001b[39mread()\n\u001b[0;32m      7\u001b[0m     \u001b[38;5;28;01mif\u001b[39;00m \u001b[38;5;129;01mnot\u001b[39;00m ret:\n\u001b[0;32m      8\u001b[0m         \u001b[38;5;28mprint\u001b[39m(\u001b[38;5;124m\"\u001b[39m\u001b[38;5;124m프레임ㄴㄴ\u001b[39m\u001b[38;5;124m\"\u001b[39m)\n",
      "\u001b[1;31mKeyboardInterrupt\u001b[0m: "
     ]
    }
   ],
   "source": [
    "prediction_interval = 5\n",
    "next_prediction_time = time.time() + prediction_interval\n",
    "\n",
    "# 예측된 라벨을 저장하기 위한 변수 초기화\n",
    "predicted_label = \"\"\n",
    "\n",
    "cap = cv2.VideoCapture(0)\n",
    "while cap.isOpened():\n",
    "    ret, img = cap.read()\n",
    "    if not ret:\n",
    "        print(\"프레임을 읽을 수 없습니다.\")\n",
    "        break\n",
    "\n",
    "    # 현재 시간이 다음 예측 시간을 넘었는지 확인\n",
    "    if time.time() >= next_prediction_time:\n",
    "        # 예측을 위한 전처리 수행\n",
    "        image = crop_center_square_frame(img)\n",
    "        image = cv2.resize(image, (600, 600))\n",
    "        image = preprocess_input(image)\n",
    "        image = np.expand_dims(image, axis=0)\n",
    "        \n",
    "        # 예측 수행\n",
    "        predictions = model.predict(image)\n",
    "        predicted_class = np.argmax(predictions, axis=1)\n",
    "        predicted_label = label_encoder.inverse_transform(predicted_class)[0]\n",
    "        \n",
    "        # 다음 예측 시간 업데이트\n",
    "        next_prediction_time = time.time() + prediction_interval\n",
    "\n",
    "    # 예측된 라벨을 화면에 표시 (예측이 수행된 이후로 계속)\n",
    "    if predicted_label:\n",
    "        cv2.putText(img, predicted_label, (50, 50), cv2.FONT_HERSHEY_SIMPLEX, 1, (0, 0, 0), 2)\n",
    "\n",
    "    # 화면에 프레임 표시\n",
    "    cv2.imshow('Webcam Live Prediction', img)\n",
    "\n",
    "    # 'q'를 누르면 종료\n",
    "    if cv2.waitKey(1) & 0xFF == ord('q'):\n",
    "        break\n",
    "\n",
    "# 작업 완료 후 해제\n",
    "cap.release()\n",
    "cv2.destroyAllWindows()"
   ]
  },
  {
   "cell_type": "code",
   "execution_count": null,
   "id": "8fe28b7e",
   "metadata": {},
   "outputs": [],
   "source": []
  }
 ],
 "metadata": {
  "kernelspec": {
   "display_name": "Python 3 (ipykernel)",
   "language": "python",
   "name": "python3"
  },
  "language_info": {
   "codemirror_mode": {
    "name": "ipython",
    "version": 3
   },
   "file_extension": ".py",
   "mimetype": "text/x-python",
   "name": "python",
   "nbconvert_exporter": "python",
   "pygments_lexer": "ipython3",
   "version": "3.11.3"
  }
 },
 "nbformat": 4,
 "nbformat_minor": 5
}
